{
 "cells": [
  {
   "cell_type": "markdown",
   "metadata": {},
   "source": [
    "## Problem 1: A charge with constant acceleration"
   ]
  },
  {
   "cell_type": "markdown",
   "metadata": {},
   "source": [
    "Consider a charge initially at rest at the origin. At t=0, the charge starts to move along the x direction with a constant acceleration \n",
    "$a = 5 \\times 10^{15}$ m/s. Plot out the electric field of the charge on the xz plane at different times and make an animation. What do you find?"
   ]
  },
  {
   "cell_type": "markdown",
   "metadata": {},
   "source": [
    "Hint: you can use the LinearAcceleratingCharge class to do this. You do not need to give a stop_t; the charge will continue to accelerate until it reaches 0.999c. You may consider a domain with x going from -5 m to 5 m, and z from -5 m to 5 m. The time range to consider can be from $t = 0$ to $t = 6 \\times 10^{-8}$ s."
   ]
  },
  {
   "cell_type": "markdown",
   "metadata": {},
   "source": []
  }
 ],
 "metadata": {
  "language_info": {
   "name": "python"
  },
  "orig_nbformat": 4
 },
 "nbformat": 4,
 "nbformat_minor": 2
}
