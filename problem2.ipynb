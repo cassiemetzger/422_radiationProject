{
 "cells": [
  {
   "cell_type": "markdown",
   "metadata": {},
   "source": [
    "## Problem 2: A charge with a burst of sudden acceleration"
   ]
  },
  {
   "cell_type": "markdown",
   "metadata": {},
   "source": [
    "A charge is initially at rest at the origin. At t=0 the charge starts to move along the x direction with constant acceleration. The acceleration lasts for 1 ns and the charge reaches a speed of 0.5c. Afterwards the charge moves with the constant speed of 0.5c. Plot out the electric field of the charge on the xz plane at different times and make an animation. Is your finding consistent with your expectation?"
   ]
  },
  {
   "cell_type": "markdown",
   "metadata": {},
   "source": []
  }
 ],
 "metadata": {
  "language_info": {
   "name": "python"
  },
  "orig_nbformat": 4
 },
 "nbformat": 4,
 "nbformat_minor": 2
}
