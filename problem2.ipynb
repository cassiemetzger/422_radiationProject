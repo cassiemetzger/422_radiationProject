{
 "cells": [
  {
   "cell_type": "markdown",
   "id": "274ddb0d-bba1-44ad-904b-03a8cba9f74b",
   "metadata": {},
   "source": [
    "## Problem 2: A charge with a burst of sudden acceleration"
   ]
  },
  {
   "cell_type": "markdown",
   "id": "5efc6a4b-6dae-4e5a-8ba7-7950c3ce49f3",
   "metadata": {},
   "source": [
    "A charge is initially at rest at the origin. At t=0 the charge starts to move along the x direction with constant acceleration. The acceleration lasts for 1 ns and the charge reaches a speed of 0.5c. Afterwards the charge moves with the constant speed of 0.5c. Plot out the electric field of the charge on the xz plane at different times and make an animation. Is your finding consistent with your expectation?"
   ]
  },
  {
   "cell_type": "code",
   "execution_count": null,
   "id": "276c5250-2241-4631-aaef-93effacb72ac",
   "metadata": {},
   "outputs": [],
   "source": [
    "import numpy as np\n",
    "import matplotlib.pyplot as plt\n",
    "import pycharge as pc\n",
    "from mpl_toolkits.axes_grid1 import make_axes_locatable\n",
    "import matplotlib.colors\n",
    "\n",
    "c = 3e8  # Speed of light in meters per second\n",
    "acceleration_duration = 1e-9  # Acceleration time in seconds\n",
    "final_velocity = 0.5 * c  # Final velocity after acceleration\n",
    "acceleration = final_velocity / acceleration_duration  # Constant acceleration\n",
    "\n",
    "# Define the simulation grid\n",
    "lim = 5.0\n",
    "grid_size = 1000\n",
    "x0 = np.linspace(-lim, lim, grid_size)\n",
    "x, y, z = np.meshgrid(x0, 0, x0, indexing='ij')\n",
    "\n",
    "# Time settings for the animation\n",
    "tmax = 20 * acceleration_duration  # Total time to show in the animation\n",
    "n_frame = 100\n",
    "dt = tmax / n_frame\n",
    "\n",
    "# Charge initialization with LinearAcceleratingCharge\n",
    "charge = pc.LinearAcceleratingCharge(acceleration=acceleration, stop_t=acceleration_duration)\n",
    "\n",
    "# Create simulation object\n",
    "simulation = pc.Simulation(charge)"
   ]
  },
  {
   "cell_type": "code",
   "execution_count": null,
   "id": "643094d4-3204-4fcc-adef-0ac99baeb814",
   "metadata": {},
   "outputs": [],
   "source": [
    "# Directory for plots\n",
    "plotdir = './plot'\n",
    "if not os.path.exists(plotdir):\n",
    "    os.makedirs(plotdir)\n",
    "\n",
    "for i in range(n_frame + 1):\n",
    "    t = np.array([i * dt])  # Ensure t is always an array\n",
    "    E_total = simulation.calculate_E(t=t, x=x, y=y, z=z, pcharge_field='Total')\n",
    "    Ex = E_total[0][:, 0, :]\n",
    "    Ez = E_total[2][:, 0, :]\n",
    "    Enorm = np.sqrt(Ex**2 + Ez**2)\n",
    "    \n",
    "    fig, ax = plt.subplots(figsize=(7, 6))\n",
    "    vmin, vmax = 1e-11, 1e-8\n",
    "    im = ax.pcolormesh(x0, x0, Enorm.T, norm=matplotlib.colors.LogNorm(vmin=vmin, vmax=vmax))\n",
    "    stm = plt.streamplot(x0, x0, Ex.T, Ez.T, density=2, color='k')\n",
    "    pos = ax.scatter(charge.xpos(t), 0, s=20, c='red', marker='o')  # Now t is an array\n",
    "    ax.set_aspect('equal')\n",
    "    plt.xlabel(\"x\")\n",
    "    plt.ylabel(\"z\")\n",
    "    divider = make_axes_locatable(ax)\n",
    "    cax = divider.append_axes(\"right\", size=\"4%\", pad=0.05)\n",
    "    plt.colorbar(im, cax=cax)\n",
    "    plt.title(f'Electric Field at t = {t[0]:.3e} s')\n",
    "    plt.savefig(os.path.join(plotdir, f'slice{str(i).zfill(3)}.png'))\n",
    "    plt.close()"
   ]
  },
  {
   "cell_type": "code",
   "execution_count": null,
   "id": "c61b9da1-14c5-4bce-ba42-e1b77f557252",
   "metadata": {},
   "outputs": [],
   "source": [
    "# Generate animation using ffmpeg and clean up the directory\n",
    "os.system(\"ffmpeg -y -f image2 -r 12 -i plot/slice%03d.png -c:v libx264 -crf 18 -pix_fmt yuv420p acceleration_v_0.5c.mp4\")\n",
    "os.system(\"rm -rf plot\")"
   ]
  }
 ],
 "metadata": {
  "kernelspec": {
   "display_name": "Python 3 (ipykernel)",
   "language": "python",
   "name": "python3"
  },
  "language_info": {
   "codemirror_mode": {
    "name": "ipython",
    "version": 3
   },
   "file_extension": ".py",
   "mimetype": "text/x-python",
   "name": "python",
   "nbconvert_exporter": "python",
   "pygments_lexer": "ipython3",
   "version": "3.10.9"
  }
 },
 "nbformat": 4,
 "nbformat_minor": 5
}
