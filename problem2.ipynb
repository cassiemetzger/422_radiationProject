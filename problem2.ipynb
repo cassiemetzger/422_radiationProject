{
 "cells": [
  {
   "cell_type": "markdown",
   "id": "274ddb0d-bba1-44ad-904b-03a8cba9f74b",
   "metadata": {},
   "source": [
    "## Problem 2: A charge with a burst of sudden acceleration"
   ]
  },
  {
   "cell_type": "markdown",
   "id": "5efc6a4b-6dae-4e5a-8ba7-7950c3ce49f3",
   "metadata": {},
   "source": [
    "A charge is initially at rest at the origin. At t=0 the charge starts to move along the x direction with constant acceleration. The acceleration lasts for 1 ns and the charge reaches a speed of 0.5c. Afterwards the charge moves with the constant speed of 0.5c. Plot out the electric field of the charge on the xz plane at different times and make an animation. Is your finding consistent with your expectation?"
   ]
  },
  {
   "cell_type": "code",
   "execution_count": 13,
   "id": "276c5250-2241-4631-aaef-93effacb72ac",
   "metadata": {},
   "outputs": [],
   "source": [
    "import numpy as np\n",
    "import matplotlib.pyplot as plt\n",
    "import pycharge as pc\n",
    "from mpl_toolkits.axes_grid1 import make_axes_locatable\n",
    "import matplotlib.colors\n",
    "import sys\n",
    "import os\n",
    "\n",
    "c = 3e8  # Speed of light in meters per second\n",
    "acceleration_duration = 1e-9  # Acceleration time in seconds\n",
    "final_velocity = 0.5 * c  # Final velocity after acceleration\n",
    "acceleration = final_velocity / acceleration_duration  # Constant acceleration\n",
    "\n",
    "# Define the simulation grid\n",
    "lim = 5.0\n",
    "grid_size = 1000\n",
    "x0 = np.linspace(-lim, lim, grid_size)\n",
    "x, y, z = np.meshgrid(x0, 0, x0, indexing='ij')\n",
    "\n",
    "# Time settings for the animation\n",
    "tmax = 20 * acceleration_duration  # Total time to show in the animation\n",
    "n_frame = 100\n",
    "dt = tmax / n_frame\n",
    "\n",
    "# Charge initialization with LinearAcceleratingCharge\n",
    "charge = pc.LinearAcceleratingCharge(acceleration=acceleration, stop_t=acceleration_duration)\n",
    "\n",
    "# Create simulation object\n",
    "simulation = pc.Simulation(charge)"
   ]
  },
  {
   "cell_type": "code",
   "execution_count": 14,
   "id": "643094d4-3204-4fcc-adef-0ac99baeb814",
   "metadata": {},
   "outputs": [],
   "source": [
    "# Directory for plots\n",
    "plotdir = './plot'\n",
    "if not os.path.exists(plotdir):\n",
    "    os.makedirs(plotdir)\n",
    "\n",
    "for i in range(n_frame + 1):\n",
    "    t = np.array([i * dt])  # Ensure t is always an array\n",
    "    E_total = simulation.calculate_E(t=t, x=x, y=y, z=z, pcharge_field='Total')\n",
    "    Ex = E_total[0][:, 0, :]\n",
    "    Ez = E_total[2][:, 0, :]\n",
    "    Enorm = np.sqrt(Ex**2 + Ez**2)\n",
    "    \n",
    "    fig, ax = plt.subplots(figsize=(7, 6))\n",
    "    vmin, vmax = 1e-11, 1e-8\n",
    "    im = ax.pcolormesh(x0, x0, Enorm.T, norm=matplotlib.colors.LogNorm(vmin=vmin, vmax=vmax))\n",
    "    stm = plt.streamplot(x0, x0, Ex.T, Ez.T, density=2, color='k')\n",
    "    pos = ax.scatter(charge.xpos(t), 0, s=20, c='red', marker='o')  # Now t is an array\n",
    "    ax.set_aspect('equal')\n",
    "    plt.xlabel(\"x\")\n",
    "    plt.ylabel(\"z\")\n",
    "    divider = make_axes_locatable(ax)\n",
    "    cax = divider.append_axes(\"right\", size=\"4%\", pad=0.05)\n",
    "    plt.colorbar(im, cax=cax)\n",
    "    plt.title(f'Electric Field at t = {t[0]*1e9:.1f} ns', ha='center')\n",
    "    plt.savefig(os.path.join(plotdir, f'slice{str(i).zfill(3)}.png'))\n",
    "    plt.close()"
   ]
  },
  {
   "cell_type": "code",
   "execution_count": 15,
   "id": "c61b9da1-14c5-4bce-ba42-e1b77f557252",
   "metadata": {},
   "outputs": [
    {
     "name": "stderr",
     "output_type": "stream",
     "text": [
      "ffmpeg version 6.0 Copyright (c) 2000-2023 the FFmpeg developers\n",
      "  built with Apple clang version 14.0.3 (clang-1403.0.22.14.1)\n",
      "  configuration: --prefix=/usr/local/Cellar/ffmpeg/6.0_1 --enable-shared --enable-pthreads --enable-version3 --cc=clang --host-cflags= --host-ldflags= --enable-ffplay --enable-gnutls --enable-gpl --enable-libaom --enable-libaribb24 --enable-libbluray --enable-libdav1d --enable-libjxl --enable-libmp3lame --enable-libopus --enable-librav1e --enable-librist --enable-librubberband --enable-libsnappy --enable-libsrt --enable-libsvtav1 --enable-libtesseract --enable-libtheora --enable-libvidstab --enable-libvmaf --enable-libvorbis --enable-libvpx --enable-libwebp --enable-libx264 --enable-libx265 --enable-libxml2 --enable-libxvid --enable-lzma --enable-libfontconfig --enable-libfreetype --enable-frei0r --enable-libass --enable-libopencore-amrnb --enable-libopencore-amrwb --enable-libopenjpeg --enable-libspeex --enable-libsoxr --enable-libzmq --enable-libzimg --disable-libjack --disable-indev=jack --enable-videotoolbox --enable-audiotoolbox\n",
      "  libavutil      58.  2.100 / 58.  2.100\n",
      "  libavcodec     60.  3.100 / 60.  3.100\n",
      "  libavformat    60.  3.100 / 60.  3.100\n",
      "  libavdevice    60.  1.100 / 60.  1.100\n",
      "  libavfilter     9.  3.100 /  9.  3.100\n",
      "  libswscale      7.  1.100 /  7.  1.100\n",
      "  libswresample   4. 10.100 /  4. 10.100\n",
      "  libpostproc    57.  1.100 / 57.  1.100\n",
      "Input #0, image2, from 'plot/slice%03d.png':\n",
      "  Duration: 00:00:08.42, start: 0.000000, bitrate: N/A\n",
      "  Stream #0:0: Video: png, rgba(pc), 700x600 [SAR 3937:3937 DAR 7:6], 12 fps, 12 tbr, 12 tbn\n",
      "Stream mapping:\n",
      "  Stream #0:0 -> #0:0 (png (native) -> h264 (libx264))\n",
      "Press [q] to stop, [?] for help\n",
      "[libx264 @ 0x7fa4f0f06c80] using SAR=1/1\n",
      "[libx264 @ 0x7fa4f0f06c80] using cpu capabilities: MMX2 SSE2Fast SSSE3 SSE4.2 AVX FMA3 BMI2 AVX2\n",
      "[libx264 @ 0x7fa4f0f06c80] profile High, level 3.1, 4:2:0, 8-bit\n",
      "[libx264 @ 0x7fa4f0f06c80] 264 - core 164 r3108 31e19f9 - H.264/MPEG-4 AVC codec - Copyleft 2003-2023 - http://www.videolan.org/x264.html - options: cabac=1 ref=3 deblock=1:0:0 analyse=0x3:0x113 me=hex subme=7 psy=1 psy_rd=1.00:0.00 mixed_ref=1 me_range=16 chroma_me=1 trellis=1 8x8dct=1 cqm=0 deadzone=21,11 fast_pskip=1 chroma_qp_offset=-2 threads=12 lookahead_threads=2 sliced_threads=0 nr=0 decimate=1 interlaced=0 bluray_compat=0 constrained_intra=0 bframes=3 b_pyramid=2 b_adapt=1 b_bias=0 direct=1 weightb=1 open_gop=0 weightp=2 keyint=250 keyint_min=12 scenecut=40 intra_refresh=0 rc_lookahead=40 rc=crf mbtree=1 crf=18.0 qcomp=0.60 qpmin=0 qpmax=69 qpstep=4 ip_ratio=1.40 aq=1:1.00\n",
      "Output #0, mp4, to 'acceleration_v_0.5c.mp4':\n",
      "  Metadata:\n",
      "    encoder         : Lavf60.3.100\n",
      "  Stream #0:0: Video: h264 (avc1 / 0x31637661), yuv420p(tv, progressive), 700x600 [SAR 1:1 DAR 7:6], q=2-31, 12 fps, 12288 tbn\n",
      "    Metadata:\n",
      "      encoder         : Lavc60.3.100 libx264\n",
      "    Side data:\n",
      "      cpb: bitrate max/min/avg: 0/0/0 buffer size: 0 vbv_delay: N/A\n",
      "frame=  101 fps=0.0 q=-1.0 Lsize=    1684kB time=00:00:08.16 bitrate=1689.0kbits/s speed=12.5x     \n",
      "video:1682kB audio:0kB subtitle:0kB other streams:0kB global headers:0kB muxing overhead: 0.122233%\n",
      "[libx264 @ 0x7fa4f0f06c80] frame I:1     Avg QP: 9.12  size:125008\n",
      "[libx264 @ 0x7fa4f0f06c80] frame P:25    Avg QP:18.21  size: 21899\n",
      "[libx264 @ 0x7fa4f0f06c80] frame B:75    Avg QP:22.20  size: 13986\n",
      "[libx264 @ 0x7fa4f0f06c80] consecutive B-frames:  1.0%  0.0%  0.0% 99.0%\n",
      "[libx264 @ 0x7fa4f0f06c80] mb I  I16..4: 41.7%  0.3% 58.0%\n",
      "[libx264 @ 0x7fa4f0f06c80] mb P  I16..4:  0.1%  0.1%  1.5%  P16..4:  5.2%  6.9% 15.0%  0.0%  0.0%    skip:71.1%\n",
      "[libx264 @ 0x7fa4f0f06c80] mb B  I16..4:  0.1%  0.0%  0.5%  B16..8:  6.8%  5.8% 13.6%  direct: 1.1%  skip:72.1%  L0:48.7% L1:39.9% BI:11.5%\n",
      "[libx264 @ 0x7fa4f0f06c80] 8x8 transform intra:2.7% inter:11.6%\n",
      "[libx264 @ 0x7fa4f0f06c80] coded y,uvDC,uvAC intra: 65.8% 70.9% 70.2% inter: 15.7% 19.6% 16.9%\n",
      "[libx264 @ 0x7fa4f0f06c80] i16 v,h,dc,p: 82% 13%  5%  0%\n",
      "[libx264 @ 0x7fa4f0f06c80] i8 v,h,dc,ddl,ddr,vr,hd,vl,hu:  8% 10% 58%  8%  4%  2%  2%  1%  6%\n",
      "[libx264 @ 0x7fa4f0f06c80] i4 v,h,dc,ddl,ddr,vr,hd,vl,hu: 20% 22% 13%  7% 10%  7%  9%  6%  6%\n",
      "[libx264 @ 0x7fa4f0f06c80] i8c dc,h,v,p: 60% 16% 14%  9%\n",
      "[libx264 @ 0x7fa4f0f06c80] Weighted P-Frames: Y:0.0% UV:0.0%\n",
      "[libx264 @ 0x7fa4f0f06c80] ref P L0: 33.5% 20.1% 30.3% 16.2%\n",
      "[libx264 @ 0x7fa4f0f06c80] ref B L0: 66.7% 25.0%  8.3%\n",
      "[libx264 @ 0x7fa4f0f06c80] ref B L1: 81.7% 18.3%\n",
      "[libx264 @ 0x7fa4f0f06c80] kb/s:1636.22\n"
     ]
    },
    {
     "data": {
      "text/plain": [
       "0"
      ]
     },
     "execution_count": 15,
     "metadata": {},
     "output_type": "execute_result"
    }
   ],
   "source": [
    "# Generate animation using ffmpeg and clean up the directory\n",
    "os.system(\"ffmpeg -y -f image2 -r 12 -i plot/slice%03d.png -c:v libx264 -crf 18 -pix_fmt yuv420p acceleration_v_0.5c.mp4\")\n",
    "os.system(\"rm -rf plot\")"
   ]
  }
 ],
 "metadata": {
  "kernelspec": {
   "display_name": "Python 3 (ipykernel)",
   "language": "python",
   "name": "python3"
  },
  "language_info": {
   "codemirror_mode": {
    "name": "ipython",
    "version": 3
   },
   "file_extension": ".py",
   "mimetype": "text/x-python",
   "name": "python",
   "nbconvert_exporter": "python",
   "pygments_lexer": "ipython3",
   "version": "3.10.9"
  }
 },
 "nbformat": 4,
 "nbformat_minor": 5
}
