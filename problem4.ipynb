{
 "cells": [
  {
   "cell_type": "markdown",
   "metadata": {},
   "source": [
    "## Problem 4: An oscillating charge"
   ]
  },
  {
   "cell_type": "markdown",
   "metadata": {},
   "source": [
    "A charge is oscillating along the z direction, with an amplitude of 2 mn and a period of $1.0 \\times 10^{-16}$\n",
    " s. Plot out the electric field of the charge on the xz plane at different times and make an animation. Is your finding consistent with your expectation?"
   ]
  },
  {
   "cell_type": "markdown",
   "metadata": {},
   "source": []
  }
 ],
 "metadata": {
  "language_info": {
   "name": "python"
  },
  "orig_nbformat": 4
 },
 "nbformat": 4,
 "nbformat_minor": 2
}
